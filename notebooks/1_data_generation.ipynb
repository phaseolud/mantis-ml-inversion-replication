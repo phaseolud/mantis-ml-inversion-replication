{
 "cells": [
  {
   "cell_type": "markdown",
   "source": [
    "# 1 - Data Generation\n",
    "\n",
    "In this notebook we will create a synthetic dataset that can be used for training. You can also create a dataset through the CLI. The default function `generate_all_datasets` generates for a given number of training images, 20% validation and 20% test images as well."
   ],
   "metadata": {
    "collapsed": false
   }
  },
  {
   "cell_type": "code",
   "execution_count": 1,
   "outputs": [],
   "source": [
    "# imports\n",
    "from src.data.generate import generate_all_datasets"
   ],
   "metadata": {
    "collapsed": false
   }
  },
  {
   "cell_type": "code",
   "execution_count": 2,
   "outputs": [
    {
     "name": "stderr",
     "output_type": "stream",
     "text": [
      "100%|██████████| 100/100 [00:09<00:00, 10.42it/s]\n",
      "100%|██████████| 20/20 [00:06<00:00,  2.95it/s]\n",
      "100%|██████████| 20/20 [00:06<00:00,  3.00it/s]\n"
     ]
    }
   ],
   "source": [
    "generate_all_datasets(\"65903_cam_10\", 100)"
   ],
   "metadata": {
    "collapsed": false
   }
  }
 ],
 "metadata": {
  "kernelspec": {
   "display_name": "Python 3",
   "language": "python",
   "name": "python3"
  },
  "language_info": {
   "codemirror_mode": {
    "name": "ipython",
    "version": 2
   },
   "file_extension": ".py",
   "mimetype": "text/x-python",
   "name": "python",
   "nbconvert_exporter": "python",
   "pygments_lexer": "ipython2",
   "version": "2.7.6"
  }
 },
 "nbformat": 4,
 "nbformat_minor": 0
}
